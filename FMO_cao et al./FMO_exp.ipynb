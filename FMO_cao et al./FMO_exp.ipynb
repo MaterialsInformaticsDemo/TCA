{
 "cells": [
  {
   "cell_type": "code",
   "execution_count": 112,
   "id": "42097e61",
   "metadata": {},
   "outputs": [],
   "source": [
    "import numpy as np\n",
    "\n",
    "def FMO_formular(Cr, T=673.15, t = 600, DOC = 10):\n",
    "    \"\"\"\n",
    "    Cao B, Yang S, Sun A, Dong Z, Zhang TY. \n",
    "    Domain knowledge-guided interpretive machine learning: \n",
    "    formula discovery for the oxidation behavior of ferritic-martensitic \n",
    "    steels in supercritical water. J Mater Inf 2022;2:4. \n",
    "    http://dx.doi.org/10.20517/jmi.2022.04\n",
    "    \n",
    "    input:\n",
    "    Cr : oxidation chromium equivalent concentration (wt.%), 10.38 <= Cr <= 30.319\n",
    "    Cr(wt.%) = [Cr](wt.%) + 40.3[V](wt.%) + 2.3[Si](wt.%) + 10.7[Ni](wt.%) − 1.5[Mn](wt.%)\n",
    "    T : Absolute temperature (K), 673.15 <= T <= 923.15\n",
    "    t : Exposure time (h), 30 <= t <= 2000\n",
    "    DOC : Dissolved oxygen concentration (ppb), 0 <= DOC <= 8000\n",
    "    \n",
    "    output:\n",
    "    the logarithm of weight gain (mg / dm2)\n",
    "    \"\"\"\n",
    "    # Eq.(6c) in paper\n",
    "    pre_factor = 0.084*(Cr**3/(T-DOC) - np.sqrt(T+DOC)) + 0.98*(Cr-DOC/T) / np.log(Cr+DOC)+8.543\n",
    "    \n",
    "    # Eq.(5a) in paper\n",
    "    Q = 0.084*(Cr**2-Cr+DOC) / np.exp(DOC/T) + 45.09\n",
    "    \n",
    "    # Eq.(5b) in paper\n",
    "    m = 0.323 - 0.061 * np.exp(DOC/T) / (Cr - np.sqrt(Cr) - DOC)\n",
    "    \n",
    "    ln_wg = pre_factor + np.log(DOC+2.17) -  Q * 1000 / 8.314 / T + m*np.log(t)\n",
    "    \n",
    "    return ln_wg"
   ]
  },
  {
   "cell_type": "markdown",
   "id": "e010ee75",
   "metadata": {},
   "source": [
    "# generate data"
   ]
  },
  {
   "cell_type": "code",
   "execution_count": 344,
   "id": "432da0c9",
   "metadata": {},
   "outputs": [],
   "source": [
    "import random\n",
    "\n",
    "random.seed(42)  \n",
    "\n",
    "source = []\n",
    "\n",
    "while len(source) < 20:\n",
    "    random_number = random.uniform(16, 18)\n",
    "    if random_number not in source:\n",
    "        formatted_number = round(random_number,2)\n",
    "        source.append(formatted_number)\n",
    "    source.sort()\n"
   ]
  },
  {
   "cell_type": "code",
   "execution_count": 345,
   "id": "8146e00f",
   "metadata": {},
   "outputs": [],
   "source": [
    "random.seed(42) \n",
    "\n",
    "target = []\n",
    "\n",
    "while len(target) < 20:\n",
    "    random_number = random.uniform(14, 16)\n",
    "    if random_number not in target:\n",
    "        formatted_number = round(random_number,2)\n",
    "        target.append(formatted_number)\n",
    "\n",
    "        \n",
    "random.shuffle(target)  \n",
    "\n",
    "target_test = target[:10]\n",
    "\n",
    "target_train = target[10:]\n"
   ]
  },
  {
   "cell_type": "code",
   "execution_count": 346,
   "id": "e6c5d031",
   "metadata": {},
   "outputs": [
    {
     "data": {
      "text/plain": [
       "[15.3, 14.44, 15.28, 14.17, 15.09, 14.55, 14.06, 15.62, 15.18, 15.78]"
      ]
     },
     "execution_count": 346,
     "metadata": {},
     "output_type": "execute_result"
    }
   ],
   "source": [
    "target_test"
   ]
  },
  {
   "cell_type": "markdown",
   "id": "74e782ee",
   "metadata": {},
   "source": [
    "# cal labels"
   ]
  },
  {
   "cell_type": "code",
   "execution_count": 347,
   "id": "b25fb31f",
   "metadata": {},
   "outputs": [
    {
     "data": {
      "text/plain": [
       "array([4.28762677, 4.286294  , 4.286294  , 4.28593767, 4.28143797,\n",
       "       4.26893795, 4.26638147, 4.26638147, 4.26572593, 4.25882298,\n",
       "       4.23554565, 4.21990128, 4.21207914, 4.20294762, 4.19240738,\n",
       "       4.19025115, 4.18479209, 4.17130182, 4.1537004 , 4.13406903])"
      ]
     },
     "execution_count": 347,
     "metadata": {},
     "output_type": "execute_result"
    }
   ],
   "source": [
    "Ys = FMO_formular(np.array(source))\n",
    "Ys "
   ]
  },
  {
   "cell_type": "code",
   "execution_count": 348,
   "id": "8d9997b0",
   "metadata": {},
   "outputs": [],
   "source": [
    "Yt_train = FMO_formular(np.array(target_train))\n",
    "Yt_test =  FMO_formular(np.array(target_test))"
   ]
  },
  {
   "cell_type": "code",
   "execution_count": 349,
   "id": "699a58b8",
   "metadata": {},
   "outputs": [
    {
     "data": {
      "text/plain": [
       "array([4.24272342, 3.36021514, 3.19273477, 3.36021514, 4.03106003,\n",
       "       4.28734686, 4.2064398 , 4.02360696, 3.99139946, 4.28104791])"
      ]
     },
     "execution_count": 349,
     "metadata": {},
     "output_type": "execute_result"
    }
   ],
   "source": [
    "Yt_train"
   ]
  },
  {
   "cell_type": "code",
   "execution_count": 350,
   "id": "3ec736ec",
   "metadata": {},
   "outputs": [
    {
     "data": {
      "text/plain": [
       "array([4.27749602, 4.02360696, 4.27590592, 3.68779915, 4.25514913,\n",
       "       4.09472442, 3.39613599, 4.29146826, 4.2663516 , 4.29211302])"
      ]
     },
     "execution_count": 350,
     "metadata": {},
     "output_type": "execute_result"
    }
   ],
   "source": [
    "Yt_test"
   ]
  },
  {
   "cell_type": "code",
   "execution_count": 351,
   "id": "d5aa2a55",
   "metadata": {},
   "outputs": [],
   "source": [
    "from sklearn.svm import SVR\n",
    "from sklearn.metrics import r2_score\n",
    "\n",
    "reg = SVR()\n",
    "pre_y = reg.fit(np.array(target_train).reshape(-1,1), np.array(Yt_train).reshape(-1,1)).predict(np.array(target_test).reshape(-1,1))"
   ]
  },
  {
   "cell_type": "code",
   "execution_count": 352,
   "id": "177243d2",
   "metadata": {},
   "outputs": [
    {
     "data": {
      "text/plain": [
       "array([4.18576581, 3.94809518, 4.1829754 , 3.49824255, 4.15066715,\n",
       "       4.06404803, 3.3412569 , 4.14761249, 4.16565155, 4.07096998])"
      ]
     },
     "execution_count": 352,
     "metadata": {},
     "output_type": "execute_result"
    }
   ],
   "source": [
    "pre_y"
   ]
  },
  {
   "cell_type": "code",
   "execution_count": 353,
   "id": "59c92b8b",
   "metadata": {},
   "outputs": [
    {
     "data": {
      "text/plain": [
       "0.8211324687124604"
      ]
     },
     "execution_count": 353,
     "metadata": {},
     "output_type": "execute_result"
    }
   ],
   "source": [
    "r2_score(Yt_test,pre_y)"
   ]
  },
  {
   "cell_type": "markdown",
   "id": "0e33bb09",
   "metadata": {},
   "source": [
    "#  LOOCV test on target domain training data "
   ]
  },
  {
   "cell_type": "code",
   "execution_count": 461,
   "id": "c9accc18",
   "metadata": {},
   "outputs": [],
   "source": [
    "from sklearn.model_selection import LeaveOneOut\n",
    "import warnings\n",
    "warnings.filterwarnings(\"ignore\")\n",
    "\n",
    "test_R2 = []\n",
    "LOOCV_R2 = []\n",
    "_range = np.linspace(.001, .2, 60)\n",
    "for lamda in _range:\n",
    "    loo = LeaveOneOut()\n",
    "    X = np.array(target_train)\n",
    "    Y = Yt_train \n",
    "    pre_list = []\n",
    "    for train_index, test_index in loo.split(X):\n",
    "        X_train, X_test = X[train_index], X[test_index]\n",
    "        y_train, y_test = Y[train_index], Y[test_index]\n",
    "\n",
    "        rse = TCA_reg(source,Ys,X_train,y_train,X_test,y_test,SVR(),lamda)\n",
    "        pre_list.append(rse[0])\n",
    "        \n",
    "    LOOCV_R2.append(r2_score(Yt_train,pre_list))\n",
    "    \n",
    "    test_res = TCA_reg(source,Ys,target_train,Yt_train,target_test,Yt_test,SVR(),lamda)\n",
    "    test_R2.append(r2_score(Yt_test,test_res))\n",
    "    "
   ]
  },
  {
   "cell_type": "code",
   "execution_count": 472,
   "id": "95e0a30c",
   "metadata": {},
   "outputs": [
    {
     "name": "stdout",
     "output_type": "stream",
     "text": [
      "0.9186273453562954\n",
      "0.8884890347252081\n"
     ]
    },
    {
     "data": {
      "image/png": "[encoded data removed]",
      "text/plain": [
       "<Figure size 640x480 with 1 Axes>"
      ]
     },
     "metadata": {},
     "output_type": "display_data"
    }
   ],
   "source": [
    "plot_lists(LOOCV_R2,test_R2,_range)"
   ]
  },
  {
   "cell_type": "code",
   "execution_count": 471,
   "id": "ea7d50b8",
   "metadata": {},
   "outputs": [],
   "source": [
    "import numpy as np\n",
    "import matplotlib.pyplot as plt\n",
    "\n",
    "def plot_lists(A, B, C):\n",
    "    max_index_A = np.argmax(A)\n",
    "    max_value_A = A[max_index_A]\n",
    "    print(max_value_A)\n",
    "\n",
    "    max_index_B = np.argmax(B)\n",
    "    max_value_B = B[max_index_B]\n",
    "    print(max_value_B)\n",
    "\n",
    "    plt.plot(C, A, label='LOOCV : R\\u00B2 = 0.92',)\n",
    "    plt.plot(C, B, label='Test : R\\u00B2 = 0.89', )\n",
    "\n",
    "    plt.axvline(x=C[max_index_A], linestyle='--', color='r', label='\\u03BB = {}'.format(round(C[max_index_A],3)))\n",
    "    plt.axvline(x=C[max_index_B], linestyle='--', color='g', label='\\u03BB = {}'.format(round(C[max_index_B],3)))\n",
    "\n",
    "    plt.scatter(C[max_index_A], max_value_A, color='r')\n",
    "    plt.scatter(C[max_index_B], max_value_B, color='g')\n",
    "    \n",
    "    # plt.ylim(0, 1) \n",
    "    plt.xlabel('\\u03BB')\n",
    "    plt.ylabel('R\\u00B2')\n",
    "    plt.legend()\n",
    "    plt.savefig('FMO.png',bbox_inches = 'tight',dpi=600)\n",
    "    plt.savefig('FMO.svg',bbox_inches = 'tight',dpi=600)\n",
    "    plt.show()\n"
   ]
  },
  {
   "cell_type": "code",
   "execution_count": 382,
   "id": "3e878beb",
   "metadata": {},
   "outputs": [],
   "source": [
    "def TCA_reg(Xs,Ys,Xt,Yt,Tx,Ty,reg,lamda=1):\n",
    "    # for our example\n",
    "    # Xs : features of source domian data\n",
    "    # Ys : response of source domian data\n",
    "    # Xt : features of target domian data\n",
    "    # Yt : response of target domian data\n",
    "    # Tx : features of test data\n",
    "    # Ty : response of test data\n",
    "    # test and target are defined in same target domain.\n",
    "    # reg : Machine Learning model\n",
    "    \n",
    "    Xs = np.array(Xs).reshape(-1,1)\n",
    "    Ys = np.array(Ys).reshape(-1,1)\n",
    "    Xt = np.array(Xt).reshape(-1,1)\n",
    "    Yt = np.array(Yt).reshape(-1,1)\n",
    "    Tx = np.array(Tx).reshape(-1,1)\n",
    "    Ty = np.array(Ty).reshape(-1,1)\n",
    "    \n",
    "    Xtrain = np.concatenate((Xs, Xt))\n",
    "    Ytrain = np.concatenate((Ys, Yt))\n",
    "    \n",
    "    # TCA\n",
    "    new_Xtrain, new_Tx = TCA(dim=2, lamda=lamda, gamma=1.5).fit(Xtrain, Tx)\n",
    "    \n",
    "    # reg \n",
    "    pre = reg.fit(new_Xtrain,Ytrain).predict(new_Tx)\n",
    "\n",
    "    return pre"
   ]
  },
  {
   "cell_type": "markdown",
   "id": "9bb158af",
   "metadata": {},
   "source": [
    "---"
   ]
  },
  {
   "cell_type": "code",
   "execution_count": 218,
   "id": "259647ce",
   "metadata": {},
   "outputs": [],
   "source": [
    "import numpy as np\n",
    "import scipy.linalg\n",
    "from sklearn.gaussian_process.kernels import  RBF \n",
    "\n",
    "class TCA():\n",
    "    def __init__(self, dim=30, lamda=1, gamma=1):\n",
    "        '''\n",
    "        :param dim: data dimension after projection\n",
    "        :param lamb: lambda value, Lagrange multiplier\n",
    "        :param gamma: length scale for rbf kernel\n",
    "        '''\n",
    "        self.dim = dim\n",
    "        self.lamda = lamda\n",
    "        self.kernel = 0.5*RBF(gamma,\"fixed\")\n",
    "\n",
    "    def fit(self, Xs, Xt, ):\n",
    "        '''\n",
    "        :param Xs: ns * m_feature, source domain data \n",
    "        :param Xt: nt * m_feature, target domain data\n",
    "        Projecting Xs and Xt to a lower dimension by TCA\n",
    "        source/target domain data expressed in a mapping space\n",
    "        :return: Xs_new and Xt_new \n",
    "        '''\n",
    "        # formular in paper Domain Adaptation via Transfer Component Analysis\n",
    "        # Eq.(2) \n",
    "        X = np.vstack((Xs, Xt))\n",
    "        K = self.kernel(X)\n",
    "        # cal matrix L \n",
    "        ns, nt = len(Xs), len(Xt)\n",
    "        if self.dim > (ns + nt):\n",
    "            raise DimensionError('The maximum number of dimensions should be smaller than', (ns + nt))\n",
    "        else:pass\n",
    "        e = np.vstack((1 / ns * np.ones((ns, 1)), -1 / nt * np.ones((nt, 1))))\n",
    "        L = e * e.T\n",
    "        # cal centering matrix H page 202 the last pargraph at left side\n",
    "        n, _ = X.shape\n",
    "        H = np.eye(n) - 1 / n * np.ones((n, n))\n",
    "        # page 202 the last pargraph at right side\n",
    "        matrix = (K @ L @ K + self.lamda * np.eye(n)) @ K @ H @ K.T\n",
    "        # cal eigenvalues : w, eigenvectors :V\n",
    "        w, V = scipy.linalg.eig(matrix)\n",
    "        w, V = w.real, V.real\n",
    "        # peak out the first self.dim components\n",
    "        ind = np.argsort(abs(w))[::-1]\n",
    "        A = V[:, ind[:self.dim]]\n",
    "        # output the mapped data\n",
    "        Z = K @ A\n",
    "        Xs_new, Xt_new = Z[:ns, :], Z[ns:, :]\n",
    "        return Xs_new, Xt_new\n",
    "\n",
    "\n",
    "class DimensionError(Exception):\n",
    "    pass"
   ]
  },
  {
   "cell_type": "code",
   "execution_count": null,
   "id": "9c3e5881",
   "metadata": {},
   "outputs": [],
   "source": []
  },
  {
   "cell_type": "code",
   "execution_count": null,
   "id": "183687b3",
   "metadata": {},
   "outputs": [],
   "source": []
  }
 ],
 "metadata": {
  "kernelspec": {
   "display_name": "Python 3 (ipykernel)",
   "language": "python",
   "name": "python3"
  },
  "language_info": {
   "codemirror_mode": {
    "name": "ipython",
    "version": 3
   },
   "file_extension": ".py",
   "mimetype": "text/x-python",
   "name": "python",
   "nbconvert_exporter": "python",
   "pygments_lexer": "ipython3",
   "version": "3.9.12"
  }
 },
 "nbformat": 4,
 "nbformat_minor": 5
}
